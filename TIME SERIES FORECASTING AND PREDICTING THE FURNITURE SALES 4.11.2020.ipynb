{
 "cells": [
  {
   "cell_type": "code",
   "execution_count": 4,
   "metadata": {},
   "outputs": [],
   "source": [
    "# 1. IMPORT PACKAGES\n",
    "import warnings\n",
    "import itertools\n",
    "import numpy as np\n",
    "import matplotlib.pyplot as plt\n",
    "warnings.filterwarnings(\"ignore\")\n",
    "plt.style.use('fivethirtyeight')\n",
    "import pandas as pd\n",
    "import statsmodels.api as sm\n",
    "import matplotlib\n",
    "matplotlib.rcParams['axes.labelsize']=14\n",
    "matplotlib.rcParams['xtick.labelsize']=12\n",
    "matplotlib.rcParams['ytick.labelsize']=12\n",
    "matplotlib.rcParams['text.color']='k'"
   ]
  },
  {
   "cell_type": "markdown",
   "metadata": {},
   "source": [
    "# 2.LOAD DATA"
   ]
  },
  {
   "cell_type": "code",
   "execution_count": 5,
   "metadata": {},
   "outputs": [
    {
     "data": {
      "text/html": [
       "<div>\n",
       "<style scoped>\n",
       "    .dataframe tbody tr th:only-of-type {\n",
       "        vertical-align: middle;\n",
       "    }\n",
       "\n",
       "    .dataframe tbody tr th {\n",
       "        vertical-align: top;\n",
       "    }\n",
       "\n",
       "    .dataframe thead th {\n",
       "        text-align: right;\n",
       "    }\n",
       "</style>\n",
       "<table border=\"1\" class=\"dataframe\">\n",
       "  <thead>\n",
       "    <tr style=\"text-align: right;\">\n",
       "      <th></th>\n",
       "      <th>Row ID</th>\n",
       "      <th>Order ID</th>\n",
       "      <th>Order Date</th>\n",
       "      <th>Ship Date</th>\n",
       "      <th>Ship Mode</th>\n",
       "      <th>Customer ID</th>\n",
       "      <th>Customer Name</th>\n",
       "      <th>Segment</th>\n",
       "      <th>Country</th>\n",
       "      <th>City</th>\n",
       "      <th>...</th>\n",
       "      <th>Postal Code</th>\n",
       "      <th>Region</th>\n",
       "      <th>Product ID</th>\n",
       "      <th>Category</th>\n",
       "      <th>Sub-Category</th>\n",
       "      <th>Product Name</th>\n",
       "      <th>Sales</th>\n",
       "      <th>Quantity</th>\n",
       "      <th>Discount</th>\n",
       "      <th>Profit</th>\n",
       "    </tr>\n",
       "  </thead>\n",
       "  <tbody>\n",
       "    <tr>\n",
       "      <th>0</th>\n",
       "      <td>1</td>\n",
       "      <td>CA-2016-152156</td>\n",
       "      <td>11/8/2016</td>\n",
       "      <td>11/11/2016</td>\n",
       "      <td>Second Class</td>\n",
       "      <td>CG-12520</td>\n",
       "      <td>Claire Gute</td>\n",
       "      <td>Consumer</td>\n",
       "      <td>United States</td>\n",
       "      <td>Henderson</td>\n",
       "      <td>...</td>\n",
       "      <td>42420</td>\n",
       "      <td>South</td>\n",
       "      <td>FUR-BO-10001798</td>\n",
       "      <td>Furniture</td>\n",
       "      <td>Bookcases</td>\n",
       "      <td>Bush Somerset Collection Bookcase</td>\n",
       "      <td>261.9600</td>\n",
       "      <td>2</td>\n",
       "      <td>0.00</td>\n",
       "      <td>41.9136</td>\n",
       "    </tr>\n",
       "    <tr>\n",
       "      <th>1</th>\n",
       "      <td>2</td>\n",
       "      <td>CA-2016-152156</td>\n",
       "      <td>11/8/2016</td>\n",
       "      <td>11/11/2016</td>\n",
       "      <td>Second Class</td>\n",
       "      <td>CG-12520</td>\n",
       "      <td>Claire Gute</td>\n",
       "      <td>Consumer</td>\n",
       "      <td>United States</td>\n",
       "      <td>Henderson</td>\n",
       "      <td>...</td>\n",
       "      <td>42420</td>\n",
       "      <td>South</td>\n",
       "      <td>FUR-CH-10000454</td>\n",
       "      <td>Furniture</td>\n",
       "      <td>Chairs</td>\n",
       "      <td>Hon Deluxe Fabric Upholstered Stacking Chairs,...</td>\n",
       "      <td>731.9400</td>\n",
       "      <td>3</td>\n",
       "      <td>0.00</td>\n",
       "      <td>219.5820</td>\n",
       "    </tr>\n",
       "    <tr>\n",
       "      <th>2</th>\n",
       "      <td>4</td>\n",
       "      <td>US-2015-108966</td>\n",
       "      <td>10/11/2015</td>\n",
       "      <td>10/18/2015</td>\n",
       "      <td>Standard Class</td>\n",
       "      <td>SO-20335</td>\n",
       "      <td>Sean O'Donnell</td>\n",
       "      <td>Consumer</td>\n",
       "      <td>United States</td>\n",
       "      <td>Fort Lauderdale</td>\n",
       "      <td>...</td>\n",
       "      <td>33311</td>\n",
       "      <td>South</td>\n",
       "      <td>FUR-TA-10000577</td>\n",
       "      <td>Furniture</td>\n",
       "      <td>Tables</td>\n",
       "      <td>Bretford CR4500 Series Slim Rectangular Table</td>\n",
       "      <td>957.5775</td>\n",
       "      <td>5</td>\n",
       "      <td>0.45</td>\n",
       "      <td>-383.0310</td>\n",
       "    </tr>\n",
       "    <tr>\n",
       "      <th>3</th>\n",
       "      <td>6</td>\n",
       "      <td>CA-2014-115812</td>\n",
       "      <td>6/9/2014</td>\n",
       "      <td>6/14/2014</td>\n",
       "      <td>Standard Class</td>\n",
       "      <td>BH-11710</td>\n",
       "      <td>Brosina Hoffman</td>\n",
       "      <td>Consumer</td>\n",
       "      <td>United States</td>\n",
       "      <td>Los Angeles</td>\n",
       "      <td>...</td>\n",
       "      <td>90032</td>\n",
       "      <td>West</td>\n",
       "      <td>FUR-FU-10001487</td>\n",
       "      <td>Furniture</td>\n",
       "      <td>Furnishings</td>\n",
       "      <td>Eldon Expressions Wood and Plastic Desk Access...</td>\n",
       "      <td>48.8600</td>\n",
       "      <td>7</td>\n",
       "      <td>0.00</td>\n",
       "      <td>14.1694</td>\n",
       "    </tr>\n",
       "    <tr>\n",
       "      <th>4</th>\n",
       "      <td>11</td>\n",
       "      <td>CA-2014-115812</td>\n",
       "      <td>6/9/2014</td>\n",
       "      <td>6/14/2014</td>\n",
       "      <td>Standard Class</td>\n",
       "      <td>BH-11710</td>\n",
       "      <td>Brosina Hoffman</td>\n",
       "      <td>Consumer</td>\n",
       "      <td>United States</td>\n",
       "      <td>Los Angeles</td>\n",
       "      <td>...</td>\n",
       "      <td>90032</td>\n",
       "      <td>West</td>\n",
       "      <td>FUR-TA-10001539</td>\n",
       "      <td>Furniture</td>\n",
       "      <td>Tables</td>\n",
       "      <td>Chromcraft Rectangular Conference Tables</td>\n",
       "      <td>1706.1840</td>\n",
       "      <td>9</td>\n",
       "      <td>0.20</td>\n",
       "      <td>85.3092</td>\n",
       "    </tr>\n",
       "  </tbody>\n",
       "</table>\n",
       "<p>5 rows × 21 columns</p>\n",
       "</div>"
      ],
      "text/plain": [
       "   Row ID        Order ID  Order Date   Ship Date       Ship Mode Customer ID  \\\n",
       "0       1  CA-2016-152156   11/8/2016  11/11/2016    Second Class    CG-12520   \n",
       "1       2  CA-2016-152156   11/8/2016  11/11/2016    Second Class    CG-12520   \n",
       "2       4  US-2015-108966  10/11/2015  10/18/2015  Standard Class    SO-20335   \n",
       "3       6  CA-2014-115812    6/9/2014   6/14/2014  Standard Class    BH-11710   \n",
       "4      11  CA-2014-115812    6/9/2014   6/14/2014  Standard Class    BH-11710   \n",
       "\n",
       "     Customer Name   Segment        Country             City  ... Postal Code  \\\n",
       "0      Claire Gute  Consumer  United States        Henderson  ...       42420   \n",
       "1      Claire Gute  Consumer  United States        Henderson  ...       42420   \n",
       "2   Sean O'Donnell  Consumer  United States  Fort Lauderdale  ...       33311   \n",
       "3  Brosina Hoffman  Consumer  United States      Los Angeles  ...       90032   \n",
       "4  Brosina Hoffman  Consumer  United States      Los Angeles  ...       90032   \n",
       "\n",
       "   Region       Product ID   Category Sub-Category  \\\n",
       "0   South  FUR-BO-10001798  Furniture    Bookcases   \n",
       "1   South  FUR-CH-10000454  Furniture       Chairs   \n",
       "2   South  FUR-TA-10000577  Furniture       Tables   \n",
       "3    West  FUR-FU-10001487  Furniture  Furnishings   \n",
       "4    West  FUR-TA-10001539  Furniture       Tables   \n",
       "\n",
       "                                        Product Name      Sales  Quantity  \\\n",
       "0                  Bush Somerset Collection Bookcase   261.9600         2   \n",
       "1  Hon Deluxe Fabric Upholstered Stacking Chairs,...   731.9400         3   \n",
       "2      Bretford CR4500 Series Slim Rectangular Table   957.5775         5   \n",
       "3  Eldon Expressions Wood and Plastic Desk Access...    48.8600         7   \n",
       "4           Chromcraft Rectangular Conference Tables  1706.1840         9   \n",
       "\n",
       "   Discount    Profit  \n",
       "0      0.00   41.9136  \n",
       "1      0.00  219.5820  \n",
       "2      0.45 -383.0310  \n",
       "3      0.00   14.1694  \n",
       "4      0.20   85.3092  \n",
       "\n",
       "[5 rows x 21 columns]"
      ]
     },
     "execution_count": 5,
     "metadata": {},
     "output_type": "execute_result"
    }
   ],
   "source": [
    "furniture=pd.read_csv('Super Store.csv',encoding='cp1252')\n",
    "furniture.head()"
   ]
  },
  {
   "cell_type": "markdown",
   "metadata": {},
   "source": [
    "# 3.DATA PREPARATION"
   ]
  },
  {
   "cell_type": "markdown",
   "metadata": {},
   "source": [
    "# 3.1 dimensions"
   ]
  },
  {
   "cell_type": "code",
   "execution_count": 6,
   "metadata": {},
   "outputs": [
    {
     "data": {
      "text/plain": [
       "(2121, 21)"
      ]
     },
     "execution_count": 6,
     "metadata": {},
     "output_type": "execute_result"
    }
   ],
   "source": [
    "furniture.shape"
   ]
  },
  {
   "cell_type": "markdown",
   "metadata": {},
   "source": [
    "# 3.2 Statistical summary"
   ]
  },
  {
   "cell_type": "code",
   "execution_count": 7,
   "metadata": {},
   "outputs": [
    {
     "data": {
      "text/html": [
       "<div>\n",
       "<style scoped>\n",
       "    .dataframe tbody tr th:only-of-type {\n",
       "        vertical-align: middle;\n",
       "    }\n",
       "\n",
       "    .dataframe tbody tr th {\n",
       "        vertical-align: top;\n",
       "    }\n",
       "\n",
       "    .dataframe thead th {\n",
       "        text-align: right;\n",
       "    }\n",
       "</style>\n",
       "<table border=\"1\" class=\"dataframe\">\n",
       "  <thead>\n",
       "    <tr style=\"text-align: right;\">\n",
       "      <th></th>\n",
       "      <th>Row ID</th>\n",
       "      <th>Postal Code</th>\n",
       "      <th>Sales</th>\n",
       "      <th>Quantity</th>\n",
       "      <th>Discount</th>\n",
       "      <th>Profit</th>\n",
       "    </tr>\n",
       "  </thead>\n",
       "  <tbody>\n",
       "    <tr>\n",
       "      <th>count</th>\n",
       "      <td>2121.000000</td>\n",
       "      <td>2121.000000</td>\n",
       "      <td>2121.000000</td>\n",
       "      <td>2121.000000</td>\n",
       "      <td>2121.000000</td>\n",
       "      <td>2121.000000</td>\n",
       "    </tr>\n",
       "    <tr>\n",
       "      <th>mean</th>\n",
       "      <td>5041.643564</td>\n",
       "      <td>55726.556341</td>\n",
       "      <td>349.834887</td>\n",
       "      <td>3.785007</td>\n",
       "      <td>0.173923</td>\n",
       "      <td>8.699327</td>\n",
       "    </tr>\n",
       "    <tr>\n",
       "      <th>std</th>\n",
       "      <td>2885.740258</td>\n",
       "      <td>32261.888225</td>\n",
       "      <td>503.179145</td>\n",
       "      <td>2.251620</td>\n",
       "      <td>0.181547</td>\n",
       "      <td>136.049246</td>\n",
       "    </tr>\n",
       "    <tr>\n",
       "      <th>min</th>\n",
       "      <td>1.000000</td>\n",
       "      <td>1040.000000</td>\n",
       "      <td>1.892000</td>\n",
       "      <td>1.000000</td>\n",
       "      <td>0.000000</td>\n",
       "      <td>-1862.312400</td>\n",
       "    </tr>\n",
       "    <tr>\n",
       "      <th>25%</th>\n",
       "      <td>2568.000000</td>\n",
       "      <td>22801.000000</td>\n",
       "      <td>47.040000</td>\n",
       "      <td>2.000000</td>\n",
       "      <td>0.000000</td>\n",
       "      <td>-12.849000</td>\n",
       "    </tr>\n",
       "    <tr>\n",
       "      <th>50%</th>\n",
       "      <td>5145.000000</td>\n",
       "      <td>60505.000000</td>\n",
       "      <td>182.220000</td>\n",
       "      <td>3.000000</td>\n",
       "      <td>0.200000</td>\n",
       "      <td>7.774800</td>\n",
       "    </tr>\n",
       "    <tr>\n",
       "      <th>75%</th>\n",
       "      <td>7534.000000</td>\n",
       "      <td>90032.000000</td>\n",
       "      <td>435.168000</td>\n",
       "      <td>5.000000</td>\n",
       "      <td>0.300000</td>\n",
       "      <td>33.726600</td>\n",
       "    </tr>\n",
       "    <tr>\n",
       "      <th>max</th>\n",
       "      <td>9991.000000</td>\n",
       "      <td>99301.000000</td>\n",
       "      <td>4416.174000</td>\n",
       "      <td>14.000000</td>\n",
       "      <td>0.700000</td>\n",
       "      <td>1013.127000</td>\n",
       "    </tr>\n",
       "  </tbody>\n",
       "</table>\n",
       "</div>"
      ],
      "text/plain": [
       "            Row ID   Postal Code        Sales     Quantity     Discount  \\\n",
       "count  2121.000000   2121.000000  2121.000000  2121.000000  2121.000000   \n",
       "mean   5041.643564  55726.556341   349.834887     3.785007     0.173923   \n",
       "std    2885.740258  32261.888225   503.179145     2.251620     0.181547   \n",
       "min       1.000000   1040.000000     1.892000     1.000000     0.000000   \n",
       "25%    2568.000000  22801.000000    47.040000     2.000000     0.000000   \n",
       "50%    5145.000000  60505.000000   182.220000     3.000000     0.200000   \n",
       "75%    7534.000000  90032.000000   435.168000     5.000000     0.300000   \n",
       "max    9991.000000  99301.000000  4416.174000    14.000000     0.700000   \n",
       "\n",
       "            Profit  \n",
       "count  2121.000000  \n",
       "mean      8.699327  \n",
       "std     136.049246  \n",
       "min   -1862.312400  \n",
       "25%     -12.849000  \n",
       "50%       7.774800  \n",
       "75%      33.726600  \n",
       "max    1013.127000  "
      ]
     },
     "execution_count": 7,
     "metadata": {},
     "output_type": "execute_result"
    }
   ],
   "source": [
    "furniture.describe()"
   ]
  },
  {
   "cell_type": "code",
   "execution_count": 8,
   "metadata": {},
   "outputs": [
    {
     "name": "stdout",
     "output_type": "stream",
     "text": [
      "<class 'pandas.core.frame.DataFrame'>\n",
      "RangeIndex: 2121 entries, 0 to 2120\n",
      "Data columns (total 21 columns):\n",
      " #   Column         Non-Null Count  Dtype  \n",
      "---  ------         --------------  -----  \n",
      " 0   Row ID         2121 non-null   int64  \n",
      " 1   Order ID       2121 non-null   object \n",
      " 2   Order Date     2121 non-null   object \n",
      " 3   Ship Date      2121 non-null   object \n",
      " 4   Ship Mode      2121 non-null   object \n",
      " 5   Customer ID    2121 non-null   object \n",
      " 6   Customer Name  2121 non-null   object \n",
      " 7   Segment        2121 non-null   object \n",
      " 8   Country        2121 non-null   object \n",
      " 9   City           2121 non-null   object \n",
      " 10  State          2121 non-null   object \n",
      " 11  Postal Code    2121 non-null   int64  \n",
      " 12  Region         2121 non-null   object \n",
      " 13  Product ID     2121 non-null   object \n",
      " 14  Category       2121 non-null   object \n",
      " 15  Sub-Category   2121 non-null   object \n",
      " 16  Product Name   2121 non-null   object \n",
      " 17  Sales          2121 non-null   float64\n",
      " 18  Quantity       2121 non-null   int64  \n",
      " 19  Discount       2121 non-null   float64\n",
      " 20  Profit         2121 non-null   float64\n",
      "dtypes: float64(3), int64(3), object(15)\n",
      "memory usage: 348.1+ KB\n"
     ]
    }
   ],
   "source": [
    "furniture.info()"
   ]
  },
  {
   "cell_type": "markdown",
   "metadata": {},
   "source": [
    "# checking the furniture sales time stamp"
   ]
  },
  {
   "cell_type": "code",
   "execution_count": 9,
   "metadata": {},
   "outputs": [
    {
     "data": {
      "text/plain": [
       "('1/1/2017', '9/9/2017')"
      ]
     },
     "execution_count": 9,
     "metadata": {},
     "output_type": "execute_result"
    }
   ],
   "source": [
    "furniture['Order Date'].min(),furniture['Order Date'].max()"
   ]
  },
  {
   "cell_type": "code",
   "execution_count": 10,
   "metadata": {},
   "outputs": [
    {
     "data": {
      "text/plain": [
       "Index(['Row ID', 'Order ID', 'Order Date', 'Ship Date', 'Ship Mode',\n",
       "       'Customer ID', 'Customer Name', 'Segment', 'Country', 'City', 'State',\n",
       "       'Postal Code', 'Region', 'Product ID', 'Category', 'Sub-Category',\n",
       "       'Product Name', 'Sales', 'Quantity', 'Discount', 'Profit'],\n",
       "      dtype='object')"
      ]
     },
     "execution_count": 10,
     "metadata": {},
     "output_type": "execute_result"
    }
   ],
   "source": [
    "furniture.columns"
   ]
  },
  {
   "cell_type": "markdown",
   "metadata": {},
   "source": [
    "# we remove the columns that we do not need as welll as checking missing values"
   ]
  },
  {
   "cell_type": "code",
   "execution_count": 11,
   "metadata": {},
   "outputs": [
    {
     "data": {
      "text/plain": [
       "Order Date    0\n",
       "Sales         0\n",
       "dtype: int64"
      ]
     },
     "execution_count": 11,
     "metadata": {},
     "output_type": "execute_result"
    }
   ],
   "source": [
    "cols = ['Row ID', 'Order ID', 'Ship Date', 'Ship Mode', 'Customer ID', 'Customer Name', 'Segment', 'Country', 'City', 'State', 'Postal Code', 'Region', 'Product ID', 'Category', 'Sub-Category', 'Product Name', 'Quantity', 'Discount', 'Profit']\n",
    "furniture.drop(cols, axis = 1, inplace = True)\n",
    "furniture = furniture.sort_values('Order Date')\n",
    "furniture.isnull().sum()"
   ]
  },
  {
   "cell_type": "code",
   "execution_count": 12,
   "metadata": {},
   "outputs": [],
   "source": [
    "furniture=furniture.groupby('Order Date')['Sales'].sum().reset_index()"
   ]
  },
  {
   "cell_type": "markdown",
   "metadata": {},
   "source": [
    "# indexing with the Time series Data"
   ]
  },
  {
   "cell_type": "code",
   "execution_count": 13,
   "metadata": {},
   "outputs": [
    {
     "data": {
      "text/plain": [
       "DatetimeIndex(['2017-01-01', '2014-01-10', '2015-01-10', '2016-01-10',\n",
       "               '2014-01-11', '2016-01-11', '2017-01-12', '2014-01-13',\n",
       "               '2015-01-13', '2017-01-13',\n",
       "               ...\n",
       "               '2014-09-07', '2015-09-07', '2017-09-07', '2014-09-08',\n",
       "               '2015-09-08', '2016-09-08', '2017-09-08', '2014-09-09',\n",
       "               '2016-09-09', '2017-09-09'],\n",
       "              dtype='datetime64[ns]', name='Order Date', length=889, freq=None)"
      ]
     },
     "execution_count": 13,
     "metadata": {},
     "output_type": "execute_result"
    }
   ],
   "source": [
    "furniture['Order Date']=pd.to_datetime(furniture['Order Date'])\n",
    "furniture.set_index('Order Date',inplace=True)\n",
    "furniture.index"
   ]
  },
  {
   "cell_type": "code",
   "execution_count": 14,
   "metadata": {},
   "outputs": [
    {
     "data": {
      "text/html": [
       "<div>\n",
       "<style scoped>\n",
       "    .dataframe tbody tr th:only-of-type {\n",
       "        vertical-align: middle;\n",
       "    }\n",
       "\n",
       "    .dataframe tbody tr th {\n",
       "        vertical-align: top;\n",
       "    }\n",
       "\n",
       "    .dataframe thead th {\n",
       "        text-align: right;\n",
       "    }\n",
       "</style>\n",
       "<table border=\"1\" class=\"dataframe\">\n",
       "  <thead>\n",
       "    <tr style=\"text-align: right;\">\n",
       "      <th></th>\n",
       "      <th>Sales</th>\n",
       "    </tr>\n",
       "    <tr>\n",
       "      <th>Order Date</th>\n",
       "      <th></th>\n",
       "    </tr>\n",
       "  </thead>\n",
       "  <tbody>\n",
       "    <tr>\n",
       "      <th>2017-01-01</th>\n",
       "      <td>975.490</td>\n",
       "    </tr>\n",
       "    <tr>\n",
       "      <th>2014-01-10</th>\n",
       "      <td>51.940</td>\n",
       "    </tr>\n",
       "    <tr>\n",
       "      <th>2015-01-10</th>\n",
       "      <td>1018.104</td>\n",
       "    </tr>\n",
       "    <tr>\n",
       "      <th>2016-01-10</th>\n",
       "      <td>104.770</td>\n",
       "    </tr>\n",
       "    <tr>\n",
       "      <th>2014-01-11</th>\n",
       "      <td>9.940</td>\n",
       "    </tr>\n",
       "  </tbody>\n",
       "</table>\n",
       "</div>"
      ],
      "text/plain": [
       "               Sales\n",
       "Order Date          \n",
       "2017-01-01   975.490\n",
       "2014-01-10    51.940\n",
       "2015-01-10  1018.104\n",
       "2016-01-10   104.770\n",
       "2014-01-11     9.940"
      ]
     },
     "execution_count": 14,
     "metadata": {},
     "output_type": "execute_result"
    }
   ],
   "source": [
    "# Resampling the time data\n",
    "furniture.head()"
   ]
  },
  {
   "cell_type": "code",
   "execution_count": 15,
   "metadata": {},
   "outputs": [
    {
     "data": {
      "text/plain": [
       "Order Date\n",
       "2014-01-01     480.194231\n",
       "2014-02-01     367.931600\n",
       "2014-03-01     857.291529\n",
       "2014-04-01     567.488357\n",
       "2014-05-01     432.049187\n",
       "2014-06-01     695.059242\n",
       "2014-07-01     601.169500\n",
       "2014-08-01     457.521656\n",
       "2014-09-01     992.353367\n",
       "2014-10-01     769.015437\n",
       "2014-11-01     980.221486\n",
       "2014-12-01    1532.298325\n",
       "2015-01-01     978.328467\n",
       "2015-02-01     522.395667\n",
       "2015-03-01     781.236437\n",
       "2015-04-01     805.822962\n",
       "2015-05-01     624.996700\n",
       "2015-06-01     428.565500\n",
       "2015-07-01     719.706316\n",
       "2015-08-01     602.412013\n",
       "2015-09-01    1382.790684\n",
       "2015-10-01     632.980184\n",
       "2015-11-01    1286.701354\n",
       "2015-12-01    1049.355418\n",
       "2016-01-01     508.182867\n",
       "2016-02-01     356.868273\n",
       "2016-03-01     609.575810\n",
       "2016-04-01     695.373158\n",
       "2016-05-01     687.265227\n",
       "2016-06-01     816.910750\n",
       "2016-07-01     768.736412\n",
       "2016-08-01     734.307782\n",
       "2016-09-01    1135.953371\n",
       "2016-10-01     624.872474\n",
       "2016-11-01    1271.345152\n",
       "2016-12-01    1410.719808\n",
       "2017-01-01     397.602133\n",
       "2017-02-01     528.179800\n",
       "2017-03-01     544.672240\n",
       "2017-04-01     453.297905\n",
       "2017-05-01     678.302328\n",
       "2017-06-01     826.460291\n",
       "2017-07-01     562.524857\n",
       "2017-08-01     857.881889\n",
       "2017-09-01    1209.508583\n",
       "2017-10-01     875.362728\n",
       "2017-11-01    1277.817759\n",
       "2017-12-01    1256.298672\n",
       "Freq: MS, Name: Sales, dtype: float64"
      ]
     },
     "execution_count": 15,
     "metadata": {},
     "output_type": "execute_result"
    }
   ],
   "source": [
    "y=furniture['Sales'].resample('MS').mean()\n",
    "y"
   ]
  },
  {
   "cell_type": "markdown",
   "metadata": {},
   "source": [
    "# Taking look at the furniture sales data for the year 2017"
   ]
  },
  {
   "cell_type": "code",
   "execution_count": null,
   "metadata": {},
   "outputs": [],
   "source": [
    "y['2017':]"
   ]
  },
  {
   "cell_type": "code",
   "execution_count": null,
   "metadata": {},
   "outputs": [],
   "source": [
    "y.plot(figsize=(15,6))\n",
    "plt.show()"
   ]
  },
  {
   "cell_type": "raw",
   "metadata": {},
   "source": [
    "# the plot clearly indicates the time series has seasonality pattern.The sales are low at the beginning of the year and high at the ned of the year.\n",
    "#There is always an upward trend within single year with a couple of low months in the mid of the year."
   ]
  },
  {
   "cell_type": "code",
   "execution_count": null,
   "metadata": {},
   "outputs": [],
   "source": [
    "from pandas import Series\n",
    "from statsmodels.tsa.stattools import adfuller\n",
    "result=adfuller(y)\n",
    "print('ADF Statistics:%f' %result[0])\n",
    "print('p-value: %f'%result[1])\n",
    "print('Critical Values')\n",
    "for key,value in result[4].items():\n",
    "    print('\\t%s: %.3f' %(key,value))"
   ]
  },
  {
   "cell_type": "markdown",
   "metadata": {},
   "source": [
    "# MOST IMPORTANT---\n",
    "# we can see that our statistics value of -5.191070 is less than the value of -3.578 at 1%. This suggests that we can reject the null hypothesis with a significance level of less than 1%(i.e a low probability that the result is a statistical fluke).Rejecting the null hypothesis means that the process has no unit root, and in turn that the time series is stationary or does not have time dependent structure"
   ]
  },
  {
   "cell_type": "markdown",
   "metadata": {},
   "source": [
    "# p value 0.00000009<0.05 threhold. hence ho is rejected.time series doesnt have unit root, ie) it is stationary"
   ]
  },
  {
   "cell_type": "markdown",
   "metadata": {},
   "source": [
    "# DECOMPOSING"
   ]
  },
  {
   "cell_type": "markdown",
   "metadata": {},
   "source": [
    "# decompose a time series into level,trend and seasonal"
   ]
  },
  {
   "cell_type": "code",
   "execution_count": 16,
   "metadata": {},
   "outputs": [
    {
     "data": {
      "image/png": "[encoded data removed]",
      "text/plain": [
       "<Figure size 432x288 with 1 Axes>"
      ]
     },
     "metadata": {},
     "output_type": "display_data"
    },
    {
     "data": {
      "image/png": "[encoded data removed]",
      "text/plain": [
       "<Figure size 432x288 with 1 Axes>"
      ]
     },
     "metadata": {},
     "output_type": "display_data"
    },
    {
     "data": {
      "text/plain": [
       "<matplotlib.legend.Legend at 0x1b8fa806cc8>"
      ]
     },
     "execution_count": 16,
     "metadata": {},
     "output_type": "execute_result"
    },
    {
     "data": {
      "image/png": "[encoded data removed]",
      "text/plain": [
       "<Figure size 432x288 with 1 Axes>"
      ]
     },
     "metadata": {},
     "output_type": "display_data"
    }
   ],
   "source": [
    "from statsmodels.tsa.seasonal import seasonal_decompose\n",
    "decomposition=seasonal_decompose(y)\n",
    "\n",
    "plt.plot(y,label='Original')\n",
    "plt.legend(loc='best')\n",
    "\n",
    "trend=decomposition.trend\n",
    "plt.show()\n",
    "plt.plot(trend,label='Trend')\n",
    "plt.legend(loc='best')\n",
    "\n",
    "seasonal=decomposition.seasonal\n",
    "plt.show()\n",
    "plt.plot(seasonal,label='Seasonal')\n",
    "plt.legend(loc='best')"
   ]
  },
  {
   "cell_type": "code",
   "execution_count": null,
   "metadata": {},
   "outputs": [],
   "source": [
    "plt.show()\n",
    "plt.plot(trend,label='Trend')\n",
    "plt.legend(loc='best')\n",
    "# trend is decomposed into seasonal(same is repeated) and residual(trend-seasonal)\n",
    "seasonal=decomposition.seasonal\n",
    "plt.show()\n",
    "plt.plot(seasonal,label='Seasonal')\n",
    "plt.legend(loc='best')\n",
    "\n",
    "residual=decomposition.resid\n",
    "plt.show()\n",
    "plt.plot(residual,label='Residual')\n",
    "plt.legend(loc='best')"
   ]
  },
  {
   "cell_type": "markdown",
   "metadata": {},
   "source": [
    "# TIME SERIES FORECASTING USING ARIMA"
   ]
  },
  {
   "cell_type": "code",
   "execution_count": null,
   "metadata": {},
   "outputs": [],
   "source": [
    "p=d=q=range(0,2)# refer class note for what is p d q --- statistics note\n",
    "pdq=list(itertools.product(p,d,q))\n",
    "seasonal_pdq=[(x[0],x[1],x[2],12) for x in list(itertools.product(p,d,q))]\n",
    "print('Examples of parameter combinations for seasonal ARIMA....')\n",
    "print('SARIMAX:{} x {}'.format(pdq[1],seasonal_pdq[1]))\n",
    "print('SARIMAX:{} x {}'.format(pdq[1],seasonal_pdq[2]))\n",
    "print('SARIMAX:{} x {}'.format(pdq[2],seasonal_pdq[3]))\n",
    "print('SARIMAX:{} x {}'.format(pdq[2],seasonal_pdq[4]))"
   ]
  },
  {
   "cell_type": "markdown",
   "metadata": {},
   "source": [
    "# PARAMETER SELECTION"
   ]
  },
  {
   "cell_type": "markdown",
   "metadata": {},
   "source": [
    "## WE USE \"GRID SEARCH\" TO FIND THE OPTIMAL SET OF PARAMETERS THAT YIELDS THE BEST PERFORMANCE FOR OUR MODEL"
   ]
  },
  {
   "cell_type": "code",
   "execution_count": null,
   "metadata": {},
   "outputs": [],
   "source": [
    "from pylab import rcParams\n",
    "for param in pdq:\n",
    "    for param_seasonal in seasonal_pdq:\n",
    "        try:\n",
    "            mod=sm.tsa.statespace.SARIMAX(y,order=param,seasonal_order=param_seasonal,\n",
    "                                          enforce_stationarity=False,enforce_invertibility=False)\n",
    "            results=mod.fit()\n",
    "            print('ARIMA{}x{}12-AIC:{}'.format(param,param_seasonal,results.aic))\n",
    "        except:\n",
    "            continue\n"
   ]
  },
  {
   "cell_type": "markdown",
   "metadata": {},
   "source": [
    "# Fitting the ARIMA model"
   ]
  },
  {
   "cell_type": "code",
   "execution_count": null,
   "metadata": {},
   "outputs": [],
   "source": [
    "mod=sm.tsa.statespace.SARIMAX(y,order=(1,1,1),seasonal_order=(1,1,0,12),\n",
    "                                          enforce_stationarity=False,enforce_invertibility=False)\n",
    "results=mod.fit()\n",
    "print(results.summary().tables[1])"
   ]
  },
  {
   "cell_type": "markdown",
   "metadata": {},
   "source": [
    "# Running model diagnostics"
   ]
  },
  {
   "cell_type": "code",
   "execution_count": null,
   "metadata": {},
   "outputs": [],
   "source": [
    "results.plot_diagnostics(figsize=(16,8))\n",
    "plt.show()"
   ]
  },
  {
   "cell_type": "raw",
   "metadata": {},
   "source": [
    "Standardized residual: the residuals scatters around mean near zero, as they should, with no obvious trends or patterns indicating misspecification\n",
    "\n",
    "Histogram plus estimated density: the data distribution is nearly normal\n",
    "\n",
    "Normal Q-Q: the plots show sample quantities versus theoretical quantiles. those are the quantiles from the standard normal distribution with mean 0 and standard deviation 1. The points seem to fall about a straight line. This graphs to help us assess if a set of data plausibly came from some theoretical distribution such as normal or exponential\n",
    "\n",
    "Correlogram: There is no evidence of autocorrelation outside of the ***Barlett two-standard-error bands*** for white noise, given by the blue lines.\n",
    "\n",
    "The model diagnostics indicates that the model residuals are near normally distributed"
   ]
  },
  {
   "cell_type": "markdown",
   "metadata": {},
   "source": [
    "# VALIDATING FORECAST\n",
    "# to understand the accuracy"
   ]
  },
  {
   "cell_type": "code",
   "execution_count": null,
   "metadata": {},
   "outputs": [],
   "source": [
    "# set forecasts to start at 2017-01-01 to the end of the data to forecast\n",
    "pred=results.get_prediction(start=pd.to_datetime('2017-01-01'),dynamic=False)\n",
    "pred_ci=pred.conf_int()\n",
    "ax=y['2014':].plot(label='observed')\n",
    "pred.predicted_mean.plot(ax=ax,label='One-step ahead forecast',alpha=.7,figsize=(14,7))\n",
    "ax.fill_between(pred_ci.index,pred_ci.iloc[:,0],pred_ci.iloc[:,1],color='k',alpha=.2)\n",
    "ax.set_xlabel('Date')\n",
    "ax.set_ylabel('Furniture Sales')\n",
    "plt.legend()\n",
    "plt.show()"
   ]
  },
  {
   "cell_type": "markdown",
   "metadata": {},
   "source": [
    "# from the above predicted values align with the true values"
   ]
  },
  {
   "cell_type": "markdown",
   "metadata": {},
   "source": [
    "# Calculating RMSE"
   ]
  },
  {
   "cell_type": "code",
   "execution_count": null,
   "metadata": {},
   "outputs": [],
   "source": [
    "y_forecasted=pred.predicted_mean\n",
    "y_truth=y['2017-01-01':]\n",
    "mse=((y_forecasted-y_truth)**2).mean()\n",
    "print('The root mean squared error of our forecasts is {}'.format(round(np.sqrt(mse),2)))"
   ]
  },
  {
   "cell_type": "markdown",
   "metadata": {},
   "source": [
    "# RMSE tells that our model was able to forecast the average daily furniture sales in the test set within 151.64 of the real sales"
   ]
  },
  {
   "cell_type": "markdown",
   "metadata": {},
   "source": [
    "# Visualizing the forecast"
   ]
  },
  {
   "cell_type": "code",
   "execution_count": null,
   "metadata": {},
   "outputs": [],
   "source": [
    "pred_uc=results.get_forecast(steps=13)\n",
    "pred_ci=pred_uc.conf_int()\n",
    "ax=y.plot(label='Observed',figsize=(14,7))\n",
    "pred_uc.predicted_mean.plot(ax=ax,label='Forecast')\n",
    "ax.fill_between(pred_ci.index,pred_ci.iloc[:,0],pred_ci.iloc[:,1],color='k',alpha=.25)\n",
    "ax.set_xlabel('Date')\n",
    "ax.set_ylabel('Furniture Sales')\n",
    "print(pred_ci)\n",
    "plt.legend()\n",
    "plt.show()"
   ]
  },
  {
   "cell_type": "markdown",
   "metadata": {},
   "source": [
    "# CONCLUSION"
   ]
  },
  {
   "cell_type": "code",
   "execution_count": null,
   "metadata": {},
   "outputs": [],
   "source": [
    "# We observe that the sales of furniture produces seasonal pattern.Early of the season is off season."
   ]
  }
 ],
 "metadata": {
  "kernelspec": {
   "display_name": "Python 3",
   "language": "python",
   "name": "python3"
  },
  "language_info": {
   "codemirror_mode": {
    "name": "ipython",
    "version": 3
   },
   "file_extension": ".py",
   "mimetype": "text/x-python",
   "name": "python",
   "nbconvert_exporter": "python",
   "pygments_lexer": "ipython3",
   "version": "3.7.6"
  }
 },
 "nbformat": 4,
 "nbformat_minor": 4
}
