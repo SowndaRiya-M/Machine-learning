{
 "cells": [
  {
   "cell_type": "code",
   "execution_count": 12,
   "metadata": {},
   "outputs": [
    {
     "data": {
      "text/plain": [
       "'channels_last'"
      ]
     },
     "execution_count": 12,
     "metadata": {},
     "output_type": "execute_result"
    }
   ],
   "source": [
    "import numpy \n",
    "from keras.datasets import mnist\n",
    "from keras.models import Sequential\n",
    "from keras.layers import Dense \n",
    "from keras.layers import Dropout\n",
    "from keras.layers import Flatten\n",
    "from keras.layers.convolutional import Conv2D\n",
    "from keras.layers.convolutional import MaxPooling2D\n",
    "from keras.utils import np_utils\n",
    "from keras import backend as K\n",
    "K.image_data_format()"
   ]
  },
  {
   "cell_type": "code",
   "execution_count": 13,
   "metadata": {},
   "outputs": [],
   "source": [
    "# fix random seed for reproducibility\n",
    "seed=7\n",
    "numpy.random.seed(seed)\n",
    "\n",
    "#load data\n",
    "(X_train,y_train),(X_test,y_test)=mnist.load_data()\n"
   ]
  },
  {
   "cell_type": "code",
   "execution_count": 14,
   "metadata": {},
   "outputs": [],
   "source": [
    "#reshape to be [samples][pixels][width][height]\n",
    "X_train=X_train.reshape(X_train.shape[0],1,28,28).astype('float32')\n",
    "X_test=X_test.reshape(X_test.shape[0],1,28,28).astype('float32')\n"
   ]
  },
  {
   "cell_type": "code",
   "execution_count": 15,
   "metadata": {},
   "outputs": [],
   "source": [
    "#normalize input from 0-255 to 0-1\n",
    "X_train=X_train/255\n",
    "X_test=X_test/255\n"
   ]
  },
  {
   "cell_type": "code",
   "execution_count": 16,
   "metadata": {},
   "outputs": [],
   "source": [
    "#one hot encode outputs\n",
    "y_train=np_utils.to_categorical(y_train)\n",
    "y_test=np_utils.to_categorical(y_test)\n",
    "num_classes=y_test.shape[1]\n"
   ]
  },
  {
   "cell_type": "code",
   "execution_count": 47,
   "metadata": {},
   "outputs": [],
   "source": [
    "#define the larger model\n",
    "def baseline_model():\n",
    "    #create model\n",
    "    model=Sequential()\n",
    "    model.add(Conv2D(32,(5,5),input_shape=(1,28,28),activation='relu',padding='same'))\n",
    "    model.add(MaxPooling2D(pool_size=(2,2),padding='same'))\n",
    "    model.add(Dropout(0.2))\n",
    "    model.add(Flatten())\n",
    "    model.add(Dense(128, activation='relu'))\n",
    "    model.add(Dense(num_classes,activation='softmax'))\n",
    "    #compile model\n",
    "    model.compile(loss='categorical_crossentropy',optimizer='adam',metrics=['accuracy'])\n",
    "    return model\n"
   ]
  },
  {
   "cell_type": "code",
   "execution_count": 48,
   "metadata": {},
   "outputs": [
    {
     "name": "stdout",
     "output_type": "stream",
     "text": [
      "Train on 60000 samples, validate on 10000 samples\n",
      "Epoch 1/10\n",
      "60000/60000 [==============================] - 17s 282us/step - loss: 0.4510 - accuracy: 0.8691 - val_loss: 0.1616 - val_accuracy: 0.9541\n",
      "Epoch 2/10\n",
      "60000/60000 [==============================] - 15s 255us/step - loss: 0.1555 - accuracy: 0.9542 - val_loss: 0.0927 - val_accuracy: 0.9717\n",
      "Epoch 3/10\n",
      "60000/60000 [==============================] - 15s 248us/step - loss: 0.1075 - accuracy: 0.9681 - val_loss: 0.0687 - val_accuracy: 0.9777\n",
      "Epoch 4/10\n",
      "60000/60000 [==============================] - 15s 246us/step - loss: 0.0889 - accuracy: 0.9729 - val_loss: 0.0611 - val_accuracy: 0.9803\n",
      "Epoch 5/10\n",
      "60000/60000 [==============================] - 15s 256us/step - loss: 0.0749 - accuracy: 0.9771 - val_loss: 0.0499 - val_accuracy: 0.9843\n",
      "Epoch 6/10\n",
      "60000/60000 [==============================] - 17s 288us/step - loss: 0.0656 - accuracy: 0.9800 - val_loss: 0.0494 - val_accuracy: 0.9845\n",
      "Epoch 7/10\n",
      "60000/60000 [==============================] - 17s 290us/step - loss: 0.0598 - accuracy: 0.9813 - val_loss: 0.0422 - val_accuracy: 0.9860\n",
      "Epoch 8/10\n",
      "60000/60000 [==============================] - 16s 266us/step - loss: 0.0550 - accuracy: 0.9831 - val_loss: 0.0428 - val_accuracy: 0.9849\n",
      "Epoch 9/10\n",
      "60000/60000 [==============================] - 16s 259us/step - loss: 0.0502 - accuracy: 0.9839 - val_loss: 0.0411 - val_accuracy: 0.9859\n",
      "Epoch 10/10\n",
      "60000/60000 [==============================] - 16s 259us/step - loss: 0.0457 - accuracy: 0.9852 - val_loss: 0.0385 - val_accuracy: 0.9870\n",
      "larger CNN error: 1.30%\n"
     ]
    }
   ],
   "source": [
    "#build model\n",
    "model=baseline_model()\n",
    "#fit the model\n",
    "model.fit(X_train,y_train,validation_data=(X_test,y_test),epochs=10,batch_size=200)\n",
    "#final evaluation of the model\n",
    "scores=model.evaluate(X_test,y_test,verbose=0)\n",
    "print(\"larger CNN error: %.2f%%\" %(100-scores[1]*100))"
   ]
  },
  {
   "cell_type": "code",
   "execution_count": null,
   "metadata": {},
   "outputs": [],
   "source": []
  }
 ],
 "metadata": {
  "kernelspec": {
   "display_name": "Python 3",
   "language": "python",
   "name": "python3"
  },
  "language_info": {
   "codemirror_mode": {
    "name": "ipython",
    "version": 3
   },
   "file_extension": ".py",
   "mimetype": "text/x-python",
   "name": "python",
   "nbconvert_exporter": "python",
   "pygments_lexer": "ipython3",
   "version": "3.7.6"
  }
 },
 "nbformat": 4,
 "nbformat_minor": 4
}
