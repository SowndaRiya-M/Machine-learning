{
 "cells": [
  {
   "cell_type": "code",
   "execution_count": 3,
   "metadata": {},
   "outputs": [
    {
     "name": "stdout",
     "output_type": "stream",
     "text": [
      "[[1 2]\n",
      " [3 4]\n",
      " [5 6]]\n",
      "[[ 0.70710678 -0.70710678]\n",
      " [ 0.70710678  0.70710678]]\n",
      "[8. 0.]\n",
      "[[-2.82842712  0.        ]\n",
      " [ 0.          0.        ]\n",
      " [ 2.82842712  0.        ]]\n"
     ]
    }
   ],
   "source": [
    "# principal component analysis\n",
    "\n",
    "\n",
    "from numpy import array\n",
    "from numpy import mean\n",
    "from numpy import cov\n",
    "from numpy.linalg import eig\n",
    "\n",
    "#define matrix\n",
    "A=array([[1,2],[3,4],[5,6]])\n",
    "\n",
    "print(A)\n",
    "\n",
    "\n",
    "#column means\n",
    "M=mean(A.T,axis=1)\n",
    "\n",
    "#center columns by subtracting column means\n",
    "C=A-M\n",
    "\n",
    "#calculate covariance matrix of centered matrix\n",
    "V=cov(C.T)\n",
    "\n",
    "#factorize the covariance matrix\n",
    "values,vectors=eig(V)\n",
    "\n",
    "print(vectors)\n",
    "print(values)\n",
    "\n",
    "#project data\n",
    "\n",
    "P=vectors.T.dot(C.T)\n",
    "\n",
    "print(P.T)"
   ]
  }
 ],
 "metadata": {
  "kernelspec": {
   "display_name": "Python 3",
   "language": "python",
   "name": "python3"
  },
  "language_info": {
   "codemirror_mode": {
    "name": "ipython",
    "version": 3
   },
   "file_extension": ".py",
   "mimetype": "text/x-python",
   "name": "python",
   "nbconvert_exporter": "python",
   "pygments_lexer": "ipython3",
   "version": "3.7.6"
  }
 },
 "nbformat": 4,
 "nbformat_minor": 4
}
