{
 "cells": [
  {
   "cell_type": "code",
   "execution_count": 1,
   "metadata": {},
   "outputs": [
    {
     "name": "stdout",
     "output_type": "stream",
     "text": [
      "4.4.0\n"
     ]
    }
   ],
   "source": [
    "#check the version of opencv\n",
    "import cv2\n",
    "print(cv2.__version__)"
   ]
  },
  {
   "cell_type": "code",
   "execution_count": 13,
   "metadata": {},
   "outputs": [
    {
     "name": "stdout",
     "output_type": "stream",
     "text": [
      "[91 31 57 57]\n"
     ]
    }
   ],
   "source": [
    "#example of face detection with opencv cascade classifier\n",
    "from cv2 import imread\n",
    "from cv2 import CascadeClassifier\n",
    "\n",
    "#load the photograph\n",
    "pixels=imread('dhoni images.jpg')\n",
    "\n",
    "#load the pre trained model\n",
    "classifier=CascadeClassifier('haarcascade_frontalface_default.xml')\n",
    "\n",
    "#perform face detection\n",
    "bboxes=classifier.detectMultiScale(pixels)\n",
    "\n",
    "#print bounding box for each detected face\n",
    "for box in bboxes:\n",
    "    print(box)"
   ]
  },
  {
   "cell_type": "code",
   "execution_count": 16,
   "metadata": {},
   "outputs": [
    {
     "name": "stdout",
     "output_type": "stream",
     "text": [
      "[360 102 101 101]\n",
      "[174  75 107 107]\n"
     ]
    }
   ],
   "source": [
    "#example of face detection with opencv cascade classifier\n",
    "from cv2 import imread\n",
    "from cv2 import CascadeClassifier\n",
    "\n",
    "#load the photograph\n",
    "pixels=imread('test1.jpg')\n",
    "\n",
    "#load the pre trained model\n",
    "classifier=CascadeClassifier('haarcascade_frontalface_default.xml')\n",
    "\n",
    "#perform face detection\n",
    "bboxes=classifier.detectMultiScale(pixels)\n",
    "\n",
    "#print bounding box for each detected face\n",
    "for box in bboxes:\n",
    "    print(box)"
   ]
  },
  {
   "cell_type": "code",
   "execution_count": 6,
   "metadata": {},
   "outputs": [],
   "source": [
    "#plot photos with detected faces using opencv cascade classifier\n",
    "from cv2 import imread\n",
    "from cv2 import imshow\n",
    "from cv2 import waitKey\n",
    "from cv2 import destroyAllWindows\n",
    "from cv2 import CascadeClassifier\n",
    "from cv2 import rectangle\n"
   ]
  },
  {
   "cell_type": "code",
   "execution_count": null,
   "metadata": {},
   "outputs": [],
   "source": [
    "#load the photo\n",
    "pixels=imread('test1.jpg')\n",
    "\n",
    "#load the pre-trained model\n",
    "classifier=CascadeClassifier('haarcascade_frontalface_default.xml')\n",
    "\n",
    "#perform face detection\n",
    "bboxes=classifier.detectMultiScale(pixels)\n",
    "\n",
    "#print bounding box for each detected face\n",
    "for box in bboxes:\n",
    "    #extract\n",
    "    x,y,width,height=box\n",
    "    x2,y2=x+width,y+height\n",
    "    #draw a rectangle over the pixels\n",
    "    rectangle(pixels,(x,y),(x2,y2),(0,0,255),1)\n",
    "#show the image \n",
    "imshow('face detection',pixels)\n",
    "\n",
    "#keep the window open until we press a key\n",
    "#waitKey(0)\n",
    "\n",
    "\n",
    "#close the window\n",
    "destroyAllWindows()"
   ]
  },
  {
   "cell_type": "code",
   "execution_count": null,
   "metadata": {},
   "outputs": [],
   "source": [
    "#load the photo\n",
    "pixels=imread('test2.jpg')\n",
    "\n",
    "#load the pre-trained model\n",
    "classifier=CascadeClassifier('haarcascade_frontalface_default.xml')\n",
    "\n",
    "#perform face detection\n",
    "bboxes=classifier.detectMultiScale(pixels)\n",
    "\n",
    "#print bounding box for each detected face\n",
    "for box in bboxes:\n",
    "    #extract\n",
    "    x,y,width,height=box\n",
    "    x2,y2=x+width,y+height\n",
    "    #draw a rectangle over the pixels\n",
    "    rectangle(pixels,(x,y),(x2,y2),(0,0,255),1)\n",
    "#show the image \n",
    "imshow('face detection',pixels)\n",
    "\n",
    "#keep the window open until we press a key\n",
    "\n",
    "waitKey(0)\n",
    "\n",
    "\n",
    "#close the window\n",
    "destroyAllWindows()"
   ]
  },
  {
   "cell_type": "code",
   "execution_count": null,
   "metadata": {},
   "outputs": [],
   "source": []
  }
 ],
 "metadata": {
  "kernelspec": {
   "display_name": "Python 3",
   "language": "python",
   "name": "python3"
  },
  "language_info": {
   "codemirror_mode": {
    "name": "ipython",
    "version": 3
   },
   "file_extension": ".py",
   "mimetype": "text/x-python",
   "name": "python",
   "nbconvert_exporter": "python",
   "pygments_lexer": "ipython3",
   "version": "3.7.6"
  }
 },
 "nbformat": 4,
 "nbformat_minor": 4
}
