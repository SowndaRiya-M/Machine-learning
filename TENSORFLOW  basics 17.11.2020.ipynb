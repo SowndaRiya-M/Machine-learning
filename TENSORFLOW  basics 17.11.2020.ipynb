{
 "cells": [
  {
   "cell_type": "code",
   "execution_count": 6,
   "metadata": {},
   "outputs": [
    {
     "name": "stdout",
     "output_type": "stream",
     "text": [
      "b'hellotensorflow'\n",
      "Tensor(\"linspace_1/Slice:0\", shape=(5,), dtype=float32)\n",
      "[3.  3.5 4.  4.5 5.  5.5 6.  6.5]\n",
      "[5. 6. 7. 8. 9.]\n"
     ]
    }
   ],
   "source": [
    "import tensorflow.compat.v1 as tf\n",
    "tf.disable_v2_behavior()\n",
    "#creating sensor\n",
    "msg=tf.string_join([\"hello\",\"tensorflow\"])\n",
    "#Launching session\n",
    "with tf.Session() as sess:\n",
    "    print(sess.run(msg))\n",
    "\n",
    "    \n",
    "#tensor array with 0 or more dimensions\n",
    "#0 dimension scalar\n",
    "#1 dimension vector\n",
    "#2 dimension vector\n",
    "#tensor is an instance of tensor class\n",
    "#tensor may contain, numbers,strings or boolean values\n",
    "\n",
    "\n",
    "lin_tensor=tf.linspace(5.,9.,5)\n",
    "lin_tensor\n",
    "\n",
    "print(lin_tensor)\n",
    "\n",
    "range_tensor=tf.range(3.,7.,delta=0.5)\n",
    "#result\n",
    "range_tensor\n",
    "\n",
    "with tf.Session() as sess:\n",
    "    print(sess.run(range_tensor))\n",
    "\n",
    "with tf.Session() as sess:\n",
    "    print(sess.run(lin_tensor))"
   ]
  },
  {
   "cell_type": "code",
   "execution_count": 7,
   "metadata": {},
   "outputs": [
    {
     "name": "stdout",
     "output_type": "stream",
     "text": [
      "b'HelloTensorflow!'\n"
     ]
    }
   ],
   "source": [
    "import tensorflow.compat.v1 as tf\n",
    "tf.disable_v2_behavior()\n",
    "msg=tf.string_join(['Hello','Tensorflow!'])\n",
    "\n",
    "with tf.Session() as sess:\n",
    "    print(sess.run(msg))"
   ]
  }
 ],
 "metadata": {
  "kernelspec": {
   "display_name": "Python 3",
   "language": "python",
   "name": "python3"
  },
  "language_info": {
   "codemirror_mode": {
    "name": "ipython",
    "version": 3
   },
   "file_extension": ".py",
   "mimetype": "text/x-python",
   "name": "python",
   "nbconvert_exporter": "python",
   "pygments_lexer": "ipython3",
   "version": "3.7.6"
  }
 },
 "nbformat": 4,
 "nbformat_minor": 4
}
