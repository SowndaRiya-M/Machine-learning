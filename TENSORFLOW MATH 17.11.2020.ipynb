{
 "cells": [
  {
   "cell_type": "code",
   "execution_count": 31,
   "metadata": {},
   "outputs": [
    {
     "name": "stdout",
     "output_type": "stream",
     "text": [
      "sum: 4.800000\n",
      "Quotient: 3.000000\n",
      "Difference:  [ 0.4288813 -2.358159  -1.431039 ]\n",
      "Element-wise product:  [[0. 2. 4. 6.]\n",
      " [0. 2. 4. 6.]\n",
      " [0. 2. 4. 6.]\n",
      " [0. 2. 4. 6.]]\n",
      "Dot Product:  [12.]\n",
      "Matrix product:  [[21 29  8]\n",
      " [12 18  5]\n",
      " [39 51 14]]\n"
     ]
    }
   ],
   "source": [
    "\n",
    "import tensorflow.compat.v1 as tf\n",
    "tf.disable_v2_behavior()\n",
    "#math with constant tensors\n",
    "const_a=tf.constant(3.6)\n",
    "const_b=tf.constant(1.2)\n",
    "total=const_a+const_b\n",
    "quot=tf.div(const_a,const_b)\n",
    "\n",
    "#math with random tensors\n",
    "rand_a=tf.random_normal([3],2.0)\n",
    "rand_b=tf.random_normal([3],1.0,4.0)\n",
    "diff=tf.subtract(rand_a,rand_b)\n",
    "\n",
    "#vector_multiplication\n",
    "vec_a=tf.linspace(0.0,3.0,4)\n",
    "vec_b=tf.fill([4,1],2.0)\n",
    "prod=tf.multiply(vec_a,vec_b)\n",
    "dot=tf.tensordot(vec_a,vec_b,1)\n",
    "\n",
    "#matrix multiplication\n",
    "mat_a=tf.constant([[2,3],[1,2],[4,5]])\n",
    "mat_b=tf.constant([[6,4,1],[3,7,2]])\n",
    "mat_prod=tf.matmul(mat_a,mat_b)\n",
    "\n",
    "#execute the operations\n",
    "with tf.Session() as sess:\n",
    "    print('sum: %f' %sess.run(total))\n",
    "    print('Quotient: %f' %sess.run(quot))\n",
    "    print('Difference: ', sess.run(diff))\n",
    "    print('Element-wise product: ', sess.run(prod))\n",
    "    print('Dot Product: ',sess.run(dot))\n",
    "    print('Matrix product: ',sess.run(mat_prod))"
   ]
  }
 ],
 "metadata": {
  "kernelspec": {
   "display_name": "Python 3",
   "language": "python",
   "name": "python3"
  },
  "language_info": {
   "codemirror_mode": {
    "name": "ipython",
    "version": 3
   },
   "file_extension": ".py",
   "mimetype": "text/x-python",
   "name": "python",
   "nbconvert_exporter": "python",
   "pygments_lexer": "ipython3",
   "version": "3.7.6"
  }
 },
 "nbformat": 4,
 "nbformat_minor": 4
}
