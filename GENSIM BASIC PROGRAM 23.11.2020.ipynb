{
 "cells": [
  {
   "cell_type": "code",
   "execution_count": 2,
   "metadata": {},
   "outputs": [
    {
     "name": "stdout",
     "output_type": "stream",
     "text": [
      "Word2Vec(vocab=14, size=100, alpha=0.025)\n",
      "['this', 'is', 'the', 'first', 'sentence', 'for', 'word2vec', 'second', 'yet', 'another', 'one', 'more', 'and', 'final']\n",
      "[ 1.3784765e-03 -3.3854051e-03 -4.9830740e-03  3.6106096e-03\n",
      "  7.9498469e-04  3.8434095e-03 -4.7684670e-03  4.7803847e-03\n",
      "  4.8987620e-04 -4.7343201e-03 -1.9670252e-04 -1.1093920e-03\n",
      "  4.0307180e-03 -2.7909814e-03  2.6436646e-03  2.3654108e-03\n",
      " -4.1980930e-03  1.7144465e-03  1.7492271e-03 -2.0762649e-03\n",
      "  2.7731322e-03  1.2790122e-04  5.9092924e-04  9.8408898e-04\n",
      "  1.7781940e-03  3.4689701e-03 -3.3857797e-03  1.0505606e-03\n",
      " -2.3591772e-03  4.3010414e-03 -4.2008706e-03 -4.2265863e-03\n",
      "  4.4309259e-03 -2.8622691e-03  3.9721844e-03  3.2888474e-03\n",
      " -2.4435096e-03 -4.6256446e-05  4.8651914e-03  1.8405131e-03\n",
      " -2.8938069e-03 -4.9123210e-03  4.2570750e-03  2.0432789e-03\n",
      " -3.4403496e-03 -4.9645500e-03  2.0987142e-04  3.3260882e-03\n",
      " -4.7479388e-03  2.9794225e-03  3.3740306e-03 -1.6541972e-03\n",
      " -3.3461000e-03  1.7482407e-03 -1.2454326e-03  2.4574008e-03\n",
      " -3.2444436e-03  9.8054903e-04  2.9117290e-03 -3.4289125e-03\n",
      " -3.0610391e-03  3.5210194e-03  3.2688370e-03 -1.3068391e-03\n",
      "  3.4008245e-03 -1.6681678e-03 -2.7180144e-03  3.3723861e-03\n",
      " -4.3534916e-03 -9.3050743e-04 -4.4697328e-03 -2.9375148e-03\n",
      " -4.1339444e-03 -2.5466888e-03  2.9758778e-03  2.7171804e-03\n",
      " -6.1721413e-04  1.8876106e-03 -2.3745317e-03 -3.1982502e-03\n",
      " -2.1353939e-03  2.5917864e-03 -1.3470743e-03 -3.0242100e-03\n",
      "  3.4561960e-03  2.9577438e-03  2.5111032e-03 -2.4954514e-03\n",
      " -3.5008388e-03  5.6288083e-04 -2.0520588e-04 -2.7484333e-03\n",
      " -1.4511830e-03 -2.5067292e-03 -4.1645570e-03  1.5845682e-03\n",
      " -2.2890535e-03  2.5513133e-03 -4.5944084e-03 -1.3835204e-03]\n",
      "Word2Vec(vocab=14, size=100, alpha=0.025)\n"
     ]
    },
    {
     "name": "stderr",
     "output_type": "stream",
     "text": [
      "C:\\Users\\sowndariya\\anaconda3\\lib\\site-packages\\ipykernel_launcher.py:18: DeprecationWarning: Call to deprecated `__getitem__` (Method will be removed in 4.0.0, use self.wv.__getitem__() instead).\n"
     ]
    }
   ],
   "source": [
    "from gensim.models import Word2Vec\n",
    "#defining training model\n",
    "sentences=[['this','is','the','first','sentence','for','word2vec'],['this','is','the','second','sentence'],\n",
    "           ['yet','another','sentence'],\n",
    "           ['one','more','sentence'],['and','the','final','sentence']]\n",
    "\n",
    "#train model\n",
    "model=Word2Vec(sentences,min_count=1)\n",
    "\n",
    "#summarize the loaded model\n",
    "print(model)\n",
    "\n",
    "#summarize the vocabulary\n",
    "words=list(model.wv.vocab)\n",
    "print(words)\n",
    "\n",
    "#access vector for one word\n",
    "print(model['sentence'])\n",
    "\n",
    "#save model\n",
    "model.save('model.bin')\n",
    "\n",
    "#load model\n",
    "new_model=Word2Vec.load('model.bin')\n",
    "print(new_model)"
   ]
  }
 ],
 "metadata": {
  "kernelspec": {
   "display_name": "Python 3",
   "language": "python",
   "name": "python3"
  },
  "language_info": {
   "codemirror_mode": {
    "name": "ipython",
    "version": 3
   },
   "file_extension": ".py",
   "mimetype": "text/x-python",
   "name": "python",
   "nbconvert_exporter": "python",
   "pygments_lexer": "ipython3",
   "version": "3.7.6"
  }
 },
 "nbformat": 4,
 "nbformat_minor": 4
}
